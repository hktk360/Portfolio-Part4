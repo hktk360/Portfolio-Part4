{
 "cells": [
  {
   "cell_type": "markdown",
   "id": "352bd7d0-0dc1-4252-8fa8-fb1c66c647db",
   "metadata": {},
   "source": [
    "Reflective Report for Portfolio 4\n",
    "________________________________________\n",
    "### Reflection on Learning and Progress Throughout the Course\n",
    "\n",
    "In this course, I have seen significant progress in my technical skills from the beginning of the unit till now. Initially, I only had very basic understanding of data processing and analysis that was limited to MS Excel. Now, I have been exposed to more advanced techniques like machine learning models and feature selection. I have been able to gain deeper understanding of how data is handled end-to-end, from cleaning and exploration to model evaluation and fine tuning.\n",
    "The most important and key skill that I attained was getting my hands dirty with Python and Jupyter notebooks. At the beginning, I had no idea about notebooks for coding and reporting of analysis was completely new to me. Now, I can safely say that I am a lot more comfortable with writing and explaining code and presenting it in an organized way. I have gained exposure to numerous libraries like pandas for data manipulation, matplotlib and seaborn for visualization, and scikit-learn for machine learning.\n",
    "Moving forward, I will be particularly interested in expanding skills in predictive modeling and data exploration. I will also try to dive deep into advanced techniques like neural networks and how their application is done in real-world scenarios. With the level of interest that this course has developed in me, I am hoping to continue building projects from scratch and work as a free-lancer for the sole purpose of skill enhancement and gaining more knowledge in the field of data science. I will also try to combine these skills with my prior corporate finance skills to build better and efficient finance models that backed up by real world data. \n",
    "In the end, I would say that I have realized that there are endless possibilities in the field of data science and if interest is developed, some amazing work can be done for the betterment of the society.\n",
    "\n",
    "#### Discussion Points for Portfolio 4\n",
    "\n",
    "1.\tWhy this specific Dataset and Problem to Solve were chosen:\n",
    "The Bengaluru House Price dataset because it aligned with real-world scenarios. Understanding property price trends is important for both potential buyers and real estate companies and agents. A mix of categorical and numerical features are present in this dataset allowing for in-depth analysis of factors influencing house prices, such as location, size, and number of bathrooms. These diverse set of features brought in challenge as well as an opportunity to different explore machine learning techniques such as clustering and regression.\n",
    "The problem that I aimed to solve was to identify what the key factors are that influence house prices in Bengaluru and to find out whether there are distinct property clusters based on price per square foot. To uncover the underlying factors influencing property prices is highly relevant in the real estate industry. This diverse dataset paved way to provide a meaningful explanation to fluctuation in housing prices  and how apply different techniques to fetch insights.\n",
    "\n",
    "2.\tReason for Choosing Machine Models and Suitability\n",
    "For Portfolio 4, I used two main machine learning models: K-Means Clustering,  and Polynomial Regression.  Amongst Polynomial Regression and RFE, Polynomial Regression was chosen at the end based on Mean Absolute Error (MAE), Mean Squared Error (MSE) and R-squared (R²) scores.\n",
    "Since we had to perform both segmentation (via clustering) and prediction (via regression, we chose these two models amongst other models available.\n",
    "o\tK-Means Clustering was used to form groups based on price per square foot of the properties. It helped in identifying distinct groups of properties that allowed a deeper understanding of high-demand areas.\n",
    "o\tPolynomial Regression was selected because it helped me model non-linear relationships among house prices and features such as total square footage and the number of bathrooms. Initially, I carried out with simpler models like linear regression but then moved to polynomial regression as it is much better at capturingcomplex relationships in the data. This lead to an improved R-squared value of 0.7247.\n",
    "Both of these models were well-suited to the task at hand since they allowed me to address the two core questions: 1) identifying patterns in house prices and 2)making accurate predictions based on multiple features.\n",
    "\n",
    "3.\tInsights and Conclusions from the Study\n",
    "Through clustering, I was able to identify two distinct property segments: one with lower price per square foot and another with higher price per square foot. The insights I got were consistent with my expectations, as properties in central and upscale neighborhoods tend to have higher prices. Additionally, Polynomial Regression model provided meaningful predictions by successfully explaining 72% of the variance in house prices.\n",
    "Another interesting insight was the feature location played a more significant role than anticipated, a proper trend could be observed where even smaller properties were valued at a much higher price in a specific area as compared to larger properties in other areas. This highlighted the point that price is not always higher for large properties. Other factors like area as highlighted have influence over price as well.\n"
   ]
  }
 ],
 "metadata": {
  "kernelspec": {
   "display_name": "Python 3 (ipykernel)",
   "language": "python",
   "name": "python3"
  },
  "language_info": {
   "codemirror_mode": {
    "name": "ipython",
    "version": 3
   },
   "file_extension": ".py",
   "mimetype": "text/x-python",
   "name": "python",
   "nbconvert_exporter": "python",
   "pygments_lexer": "ipython3",
   "version": "3.11.3"
  }
 },
 "nbformat": 4,
 "nbformat_minor": 5
}
